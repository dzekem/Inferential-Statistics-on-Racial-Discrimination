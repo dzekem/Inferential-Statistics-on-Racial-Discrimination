{
 "cells": [
  {
   "cell_type": "markdown",
   "metadata": {},
   "source": [
    "# Examining Racial Discrimination in the US Job Market\n",
    "\n",
    "### Background\n",
    "Racial discrimination continues to be pervasive in cultures throughout the world. Researchers examined the level of racial discrimination in the United States labor market by randomly assigning identical résumés to black-sounding or white-sounding names and observing the impact on requests for interviews from employers.\n",
    "\n",
    "### Data\n",
    "In the dataset provided, each row represents a resume. The 'race' column has two values, 'b' and 'w', indicating black-sounding and white-sounding. The column 'call' has two values, 1 and 0, indicating whether the resume received a call from employers or not.\n",
    "\n",
    "Note that the 'b' and 'w' values in race are assigned randomly to the resumes when presented to the employer."
   ]
  },
  {
   "cell_type": "markdown",
   "metadata": {},
   "source": [
    "### Exercises\n",
    "You will perform a statistical analysis to establish whether race has a significant impact on the rate of callbacks for resumes.\n",
    "\n",
    "Answer the following questions **in this notebook below and submit to your Github account**. \n",
    "\n",
    "   1. What test is appropriate for this problem? Does CLT apply?\n",
    "   2. What are the null and alternate hypotheses?\n",
    "   3. Compute margin of error, confidence interval, and p-value. Try using both the bootstrapping and the frequentist statistical approaches.\n",
    "   4. Write a story describing the statistical significance in the context or the original problem.\n",
    "   5. Does your analysis mean that race/name is the most important factor in callback success? Why or why not? If not, how would you amend your analysis?\n",
    "\n",
    "You can include written notes in notebook cells using Markdown: \n",
    "   - In the control panel at the top, choose Cell > Cell Type > Markdown\n",
    "   - Markdown syntax: http://nestacms.com/docs/creating-content/markdown-cheat-sheet\n",
    "\n",
    "#### Resources\n",
    "+ Experiment information and data source: http://www.povertyactionlab.org/evaluation/discrimination-job-market-united-states\n",
    "+ Scipy statistical methods: http://docs.scipy.org/doc/scipy/reference/stats.html \n",
    "+ Markdown syntax: http://nestacms.com/docs/creating-content/markdown-cheat-sheet\n",
    "+ Formulas for the Bernoulli distribution: https://en.wikipedia.org/wiki/Bernoulli_distribution"
   ]
  },
  {
   "cell_type": "code",
   "execution_count": 126,
   "metadata": {},
   "outputs": [],
   "source": [
    "import pandas as pd\n",
    "import numpy as np\n",
    "from scipy import stats\n",
    "import math"
   ]
  },
  {
   "cell_type": "code",
   "execution_count": 15,
   "metadata": {},
   "outputs": [],
   "source": [
    "data = pd.io.stata.read_stata('data/us_job_market_discrimination.dta')"
   ]
  },
  {
   "cell_type": "code",
   "execution_count": 156,
   "metadata": {},
   "outputs": [
    {
     "name": "stdout",
     "output_type": "stream",
     "text": [
      "Total number of white-sounding names called back:  235.0\n",
      "Total number of black-sounding names called back:  157.0\n"
     ]
    }
   ],
   "source": [
    "# number of callbacks for white-sounding names\n",
    "print('Total number of white-sounding names called back: ', sum(data[data.race=='w'].call))\n",
    "print('Total number of black-sounding names called back: ', sum(data[data.race=='b'].call))"
   ]
  },
  {
   "cell_type": "code",
   "execution_count": 171,
   "metadata": {},
   "outputs": [
    {
     "data": {
      "text/html": [
       "<div>\n",
       "<style scoped>\n",
       "    .dataframe tbody tr th:only-of-type {\n",
       "        vertical-align: middle;\n",
       "    }\n",
       "\n",
       "    .dataframe tbody tr th {\n",
       "        vertical-align: top;\n",
       "    }\n",
       "\n",
       "    .dataframe thead th {\n",
       "        text-align: right;\n",
       "    }\n",
       "</style>\n",
       "<table border=\"1\" class=\"dataframe\">\n",
       "  <thead>\n",
       "    <tr style=\"text-align: right;\">\n",
       "      <th></th>\n",
       "      <th>id</th>\n",
       "      <th>ad</th>\n",
       "      <th>education</th>\n",
       "      <th>ofjobs</th>\n",
       "      <th>yearsexp</th>\n",
       "      <th>honors</th>\n",
       "      <th>volunteer</th>\n",
       "      <th>military</th>\n",
       "      <th>empholes</th>\n",
       "      <th>occupspecific</th>\n",
       "      <th>...</th>\n",
       "      <th>orgreq</th>\n",
       "      <th>manuf</th>\n",
       "      <th>transcom</th>\n",
       "      <th>bankreal</th>\n",
       "      <th>trade</th>\n",
       "      <th>busservice</th>\n",
       "      <th>othservice</th>\n",
       "      <th>missind</th>\n",
       "      <th>ownership</th>\n",
       "      <th>mean subtract</th>\n",
       "    </tr>\n",
       "  </thead>\n",
       "  <tbody>\n",
       "    <tr>\n",
       "      <th>0</th>\n",
       "      <td>b</td>\n",
       "      <td>1</td>\n",
       "      <td>4</td>\n",
       "      <td>2</td>\n",
       "      <td>6</td>\n",
       "      <td>0</td>\n",
       "      <td>0</td>\n",
       "      <td>0</td>\n",
       "      <td>1</td>\n",
       "      <td>17</td>\n",
       "      <td>...</td>\n",
       "      <td>0.0</td>\n",
       "      <td>1.0</td>\n",
       "      <td>0.0</td>\n",
       "      <td>0.0</td>\n",
       "      <td>0.0</td>\n",
       "      <td>0.0</td>\n",
       "      <td>0.0</td>\n",
       "      <td>0.0</td>\n",
       "      <td></td>\n",
       "      <td>-0.000493</td>\n",
       "    </tr>\n",
       "    <tr>\n",
       "      <th>1</th>\n",
       "      <td>b</td>\n",
       "      <td>1</td>\n",
       "      <td>3</td>\n",
       "      <td>3</td>\n",
       "      <td>6</td>\n",
       "      <td>0</td>\n",
       "      <td>1</td>\n",
       "      <td>1</td>\n",
       "      <td>0</td>\n",
       "      <td>316</td>\n",
       "      <td>...</td>\n",
       "      <td>0.0</td>\n",
       "      <td>1.0</td>\n",
       "      <td>0.0</td>\n",
       "      <td>0.0</td>\n",
       "      <td>0.0</td>\n",
       "      <td>0.0</td>\n",
       "      <td>0.0</td>\n",
       "      <td>0.0</td>\n",
       "      <td></td>\n",
       "      <td>-0.000493</td>\n",
       "    </tr>\n",
       "    <tr>\n",
       "      <th>2</th>\n",
       "      <td>b</td>\n",
       "      <td>1</td>\n",
       "      <td>4</td>\n",
       "      <td>1</td>\n",
       "      <td>6</td>\n",
       "      <td>0</td>\n",
       "      <td>0</td>\n",
       "      <td>0</td>\n",
       "      <td>0</td>\n",
       "      <td>19</td>\n",
       "      <td>...</td>\n",
       "      <td>0.0</td>\n",
       "      <td>1.0</td>\n",
       "      <td>0.0</td>\n",
       "      <td>0.0</td>\n",
       "      <td>0.0</td>\n",
       "      <td>0.0</td>\n",
       "      <td>0.0</td>\n",
       "      <td>0.0</td>\n",
       "      <td></td>\n",
       "      <td>-0.000493</td>\n",
       "    </tr>\n",
       "    <tr>\n",
       "      <th>3</th>\n",
       "      <td>b</td>\n",
       "      <td>1</td>\n",
       "      <td>3</td>\n",
       "      <td>4</td>\n",
       "      <td>6</td>\n",
       "      <td>0</td>\n",
       "      <td>1</td>\n",
       "      <td>0</td>\n",
       "      <td>1</td>\n",
       "      <td>313</td>\n",
       "      <td>...</td>\n",
       "      <td>0.0</td>\n",
       "      <td>1.0</td>\n",
       "      <td>0.0</td>\n",
       "      <td>0.0</td>\n",
       "      <td>0.0</td>\n",
       "      <td>0.0</td>\n",
       "      <td>0.0</td>\n",
       "      <td>0.0</td>\n",
       "      <td></td>\n",
       "      <td>-0.000493</td>\n",
       "    </tr>\n",
       "    <tr>\n",
       "      <th>4</th>\n",
       "      <td>b</td>\n",
       "      <td>1</td>\n",
       "      <td>3</td>\n",
       "      <td>3</td>\n",
       "      <td>22</td>\n",
       "      <td>0</td>\n",
       "      <td>0</td>\n",
       "      <td>0</td>\n",
       "      <td>0</td>\n",
       "      <td>313</td>\n",
       "      <td>...</td>\n",
       "      <td>1.0</td>\n",
       "      <td>0.0</td>\n",
       "      <td>0.0</td>\n",
       "      <td>0.0</td>\n",
       "      <td>0.0</td>\n",
       "      <td>0.0</td>\n",
       "      <td>1.0</td>\n",
       "      <td>0.0</td>\n",
       "      <td>Nonprofit</td>\n",
       "      <td>-0.000493</td>\n",
       "    </tr>\n",
       "  </tbody>\n",
       "</table>\n",
       "<p>5 rows × 66 columns</p>\n",
       "</div>"
      ],
      "text/plain": [
       "  id ad  education  ofjobs  yearsexp  honors  volunteer  military  empholes  \\\n",
       "0  b  1          4       2         6       0          0         0         1   \n",
       "1  b  1          3       3         6       0          1         1         0   \n",
       "2  b  1          4       1         6       0          0         0         0   \n",
       "3  b  1          3       4         6       0          1         0         1   \n",
       "4  b  1          3       3        22       0          0         0         0   \n",
       "\n",
       "   occupspecific      ...        orgreq  manuf  transcom  bankreal  trade  \\\n",
       "0             17      ...           0.0    1.0       0.0       0.0    0.0   \n",
       "1            316      ...           0.0    1.0       0.0       0.0    0.0   \n",
       "2             19      ...           0.0    1.0       0.0       0.0    0.0   \n",
       "3            313      ...           0.0    1.0       0.0       0.0    0.0   \n",
       "4            313      ...           1.0    0.0       0.0       0.0    0.0   \n",
       "\n",
       "  busservice othservice missind  ownership  mean subtract  \n",
       "0        0.0        0.0     0.0                 -0.000493  \n",
       "1        0.0        0.0     0.0                 -0.000493  \n",
       "2        0.0        0.0     0.0                 -0.000493  \n",
       "3        0.0        0.0     0.0                 -0.000493  \n",
       "4        0.0        1.0     0.0  Nonprofit      -0.000493  \n",
       "\n",
       "[5 rows x 66 columns]"
      ]
     },
     "execution_count": 171,
     "metadata": {},
     "output_type": "execute_result"
    }
   ],
   "source": [
    "data.head()"
   ]
  },
  {
   "cell_type": "markdown",
   "metadata": {
    "collapsed": true
   },
   "source": [
    "<div class=\"span5 alert alert-success\">\n",
    "<p>Your answers to Q1 and Q2 here</p>\n",
    "</div>"
   ]
  },
  {
   "cell_type": "markdown",
   "metadata": {},
   "source": [
    "Z test will be the most appropriate statistical testing method as the size of the data is greater than 30.  \n",
    "The Null Hypothesis (Ho) is there is a relationship between race and call for a job offer.  \n",
    "Meaning there is racial discrimination in the US Job market.  \n",
    "The Alternative Hypothesis (Ha) is that there is no relationship between race and being called for a job offer.  \n",
    "Meaning all job applicants are given equal opportunities.  \n",
    " "
   ]
  },
  {
   "cell_type": "code",
   "execution_count": 174,
   "metadata": {},
   "outputs": [
    {
     "name": "stdout",
     "output_type": "stream",
     "text": [
      "Mean of black callbacks  0.030\n",
      "Mean of white callbacks  0.060\n",
      "Mean of the two means  0.045\n",
      "Std of white callbacks  0.239\n",
      "Std of black callbacks  0.171\n"
     ]
    }
   ],
   "source": [
    "whites = data[data.race=='w'].call[:100]\n",
    "blacks = data[data.race=='b'].call[:100]\n",
    "\n",
    "b_mean = blacks.mean()\n",
    "print(\"Mean of black callbacks \", \"%.3f\" %(b_mean))\n",
    "w_mean = whites.mean()\n",
    "print(\"Mean of white callbacks \", \"%.3f\" %(w_mean))\n",
    "data.groupby(['race','call']).count()\n",
    "total_mean = (b_mean + w_mean)/2\n",
    "print('Mean of the two means ', \"%0.3f\" %(total_mean))\n",
    "w_std = whites.std()\n",
    "print(\"Std of white callbacks \", \"%.3f\" %(w_std))\n",
    "b_std = blacks.std()\n",
    "print(\"Std of black callbacks \", \"%.3f\" %(b_std))"
   ]
  },
  {
   "cell_type": "code",
   "execution_count": 119,
   "metadata": {},
   "outputs": [
    {
     "name": "stdout",
     "output_type": "stream",
     "text": [
      "Mean of callbacks is  0.0805\n",
      "The new mean is  0.0800\n"
     ]
    }
   ],
   "source": [
    "# Using the Bootstrap hypothesis test method.\n",
    "# Margin of error\n",
    "# To calculate Margin of error, Z value, population standard deviation and the sample size are all needed.\n",
    "# To calculate the z value:\n",
    "# calculating the mean of callbacks\n",
    "mean = data['call'].mean()\n",
    "print('Mean of callbacks is ', \"{0:.4f}\".format(mean))    \n",
    "\n",
    "# Ho: each mean is <> 0.08 meaning there is discrimination\n",
    "# Ha: both mean is 0.08 equal chances of being called back\n",
    "\n",
    "# subtract this mean from each call value and add the null hypothesis value\n",
    "data['mean subtract'] = data['call'] - mean + 0.08\n",
    "mean2 = data['mean subtract'].mean()\n",
    "print('The new mean is ', \"%0.4f\" %(mean2))\n"
   ]
  },
  {
   "cell_type": "code",
   "execution_count": 118,
   "metadata": {},
   "outputs": [
    {
     "name": "stdout",
     "output_type": "stream",
     "text": [
      "mean of replicates is 0.080\n",
      "Standard deviation of replicates is 0.004\n"
     ]
    },
    {
     "data": {
      "image/png": "[encoded data removed]",
      "text/plain": [
       "<Figure size 432x288 with 1 Axes>"
      ]
     },
     "metadata": {
      "needs_background": "light"
     },
     "output_type": "display_data"
    }
   ],
   "source": [
    "# select 10000 observations at random from sample size\n",
    "def bootstrap_replicate_1d(data, func):\n",
    "    return func(np.random.choice(data, size=len(data)))\n",
    "\n",
    "# Bootstrap replicate function \n",
    "def draw_bs_reps(data, func, size=1):\n",
    "    # bs_replicates an array of replicates\n",
    "    bs_replicates = np.empty(size)\n",
    "\n",
    "    # loop to generate replicates\n",
    "    for i in range(size):\n",
    "        bs_replicates[i] = bootstrap_replicate_1d(data, func)\n",
    "\n",
    "    return bs_replicates\n",
    "# Take bootstrap replicates of call translated impact \n",
    "bs_replicates = draw_bs_reps(data['mean subtract'], np.mean, 10000)\n",
    "plt.hist(bs_replicates)\n",
    "print('mean of replicates is', \"{0:.3f}\".format(bs_replicates.mean()))     # which is still same as the hypothesis testing value.\n",
    "print('Standard deviation of replicates is', \"{0:.3f}\".format(bs_replicates.std())) \n",
    "# Since the mean and standard deviation is now 1 and 0 respectively, a process called Standardization"
   ]
  },
  {
   "cell_type": "code",
   "execution_count": 120,
   "metadata": {},
   "outputs": [
    {
     "name": "stdout",
     "output_type": "stream",
     "text": [
      "p_value=  0.4930\n"
     ]
    }
   ],
   "source": [
    "# Compute fraction of replicates that are less than the \n",
    "p = np.sum(bs_replicates <= np.mean(bs_replicates)) / 10000\n",
    "\n",
    "# Print the p-value\n",
    "print('p_value= ', \"%0.4f\" % (p))\n",
    "# Since this p value > 0.05, it therefore means the null hypothesis is correct."
   ]
  },
  {
   "cell_type": "code",
   "execution_count": 155,
   "metadata": {},
   "outputs": [
    {
     "name": "stdout",
     "output_type": "stream",
     "text": [
      "Standard error is 0.0062\n",
      "Z_value is  -0.3211\n",
      "Z score with confidence value of 95% from the z table is 0.3745\n"
     ]
    }
   ],
   "source": [
    "# To calculate the z test for two samples\n",
    "b_mean = 0.030\n",
    "w_mean = 0.060\n",
    "b_std = 0.171\n",
    "w_std = 0.239\n",
    "mean_diff = 0.032\n",
    "b = 100\n",
    "w = 100\n",
    "# calculate Standard Error \n",
    "SE = math.sqrt((b_std**2/2278) + (w_std**2/2200))\n",
    "print('Standard error is', \"%.4f\" %(SE))\n",
    "#calculate z value\n",
    "z_value = (w_mean - b_mean - mean_diff) / SE\n",
    "print('Z_score is ', \"%.4f\" %(z_value))\n",
    "# from the z table, considering confidence value of 95%, gives 0.0199\n",
    "print('Z score with confidence value of 98% from the z table is', 0.3745)\n",
    "# since the z score is negative, this shows that the mean of these two samples cabe 98% lesser than the population mean."
   ]
  },
  {
   "cell_type": "code",
   "execution_count": 172,
   "metadata": {},
   "outputs": [
    {
     "name": "stdout",
     "output_type": "stream",
     "text": [
      "Confidence Interval is  0.079 : 0.082\n"
     ]
    }
   ],
   "source": [
    "# confidence interval\n",
    "z_score = 0.3745\n",
    "pop_mean = 0.0805\n",
    "pop_std = data['call'].std()\n",
    "n = 4870\n",
    "CI_1 = pop_mean - (z_score * pop_std/math.sqrt(4870))\n",
    "CI_2 = pop_mean + (z_score * pop_std/math.sqrt(4870))\n",
    "print('Confidence Interval is ', \"%0.3f\" %(CI_1), ':', \"%0.3f\" %(CI_2))\n",
    "# this interval if from 79% confidence to 82%"
   ]
  },
  {
   "cell_type": "code",
   "execution_count": 169,
   "metadata": {},
   "outputs": [
    {
     "name": "stdout",
     "output_type": "stream",
     "text": [
      "Margin of error is  0.0015\n"
     ]
    }
   ],
   "source": [
    "# margin of error\n",
    "ME = z_score * pop_std/math.sqrt(4870)\n",
    "print('Margin of error is ', \"%.4f\" %(ME))"
   ]
  },
  {
   "cell_type": "markdown",
   "metadata": {},
   "source": [
    "<div class=\"span5 alert alert-success\">\n",
    "<p> Your answers to Q4 and Q5 here </p>\n",
    "</div>"
   ]
  },
  {
   "cell_type": "markdown",
   "metadata": {},
   "source": [
    "From this analysis above, for a job applicant to be called back after a job application, white sounding names have a higher chance of being called for an offer.  \n",
    "This analysis shows that from 4870 job applicants, 392 were called back.  \n",
    "From this 392, 235(60%) of the callbacks were white-sounding names and the remaining 157(40%) went to the black-sounding names. \n",
    "With these results, the ratio of white to black is therefore 3:2  \n",
    "This therefore was proven by the statistical analysis shown by the p value which when > 0.05, the null hypothesis is correct.  \n",
    "And since the null hypothesis was defined as there is a relationship between race and call, this therfore means there is racial discrimination in the recruitment process."
   ]
  },
  {
   "cell_type": "markdown",
   "metadata": {},
   "source": [
    "Since the mean the total mean of all callbacks is 0.08, the mean of a call back when it's a white-sounding name added to mean of black-sounding names is also 0.08, this therefore shows that race has a greater role to play if an applicant will be called back or not since it is always considered coupled with other features."
   ]
  }
 ],
 "metadata": {
  "kernelspec": {
   "display_name": "Python 3",
   "language": "python",
   "name": "python3"
  },
  "language_info": {
   "codemirror_mode": {
    "name": "ipython",
    "version": 3
   },
   "file_extension": ".py",
   "mimetype": "text/x-python",
   "name": "python",
   "nbconvert_exporter": "python",
   "pygments_lexer": "ipython3",
   "version": "3.7.0"
  }
 },
 "nbformat": 4,
 "nbformat_minor": 1
}
